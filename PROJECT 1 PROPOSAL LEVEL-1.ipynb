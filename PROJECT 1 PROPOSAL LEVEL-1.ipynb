{
 "cells": [
  {
   "cell_type": "code",
   "execution_count": null,
   "id": "c7d5b60b",
   "metadata": {},
   "outputs": [],
   "source": [
    "import pandas as pd\n",
    "import numpy as np\n",
    "import matplotlib.pyplot as plt\n",
    "import seaborn as sns"
   ]
  },
  {
   "cell_type": "markdown",
   "id": "49a51698",
   "metadata": {},
   "source": [
    "#Data Loading and Cleaning: Load the retail sales dataset."
   ]
  },
  {
   "cell_type": "code",
   "execution_count": 12,
   "id": "7ee8eb4a",
   "metadata": {},
   "outputs": [
    {
     "data": {
      "text/html": [
       "<div>\n",
       "<style scoped>\n",
       "    .dataframe tbody tr th:only-of-type {\n",
       "        vertical-align: middle;\n",
       "    }\n",
       "\n",
       "    .dataframe tbody tr th {\n",
       "        vertical-align: top;\n",
       "    }\n",
       "\n",
       "    .dataframe thead th {\n",
       "        text-align: right;\n",
       "    }\n",
       "</style>\n",
       "<table border=\"1\" class=\"dataframe\">\n",
       "  <thead>\n",
       "    <tr style=\"text-align: right;\">\n",
       "      <th></th>\n",
       "      <th>Transaction ID</th>\n",
       "      <th>Date</th>\n",
       "      <th>Customer ID</th>\n",
       "      <th>Gender</th>\n",
       "      <th>Age</th>\n",
       "      <th>Product Category</th>\n",
       "      <th>Quantity</th>\n",
       "      <th>Price per Unit</th>\n",
       "      <th>Total Amount</th>\n",
       "    </tr>\n",
       "  </thead>\n",
       "  <tbody>\n",
       "    <tr>\n",
       "      <th>0</th>\n",
       "      <td>1</td>\n",
       "      <td>2023-11-24</td>\n",
       "      <td>CUST001</td>\n",
       "      <td>Male</td>\n",
       "      <td>34</td>\n",
       "      <td>Beauty</td>\n",
       "      <td>3</td>\n",
       "      <td>50</td>\n",
       "      <td>150</td>\n",
       "    </tr>\n",
       "    <tr>\n",
       "      <th>1</th>\n",
       "      <td>2</td>\n",
       "      <td>2023-02-27</td>\n",
       "      <td>CUST002</td>\n",
       "      <td>Female</td>\n",
       "      <td>26</td>\n",
       "      <td>Clothing</td>\n",
       "      <td>2</td>\n",
       "      <td>500</td>\n",
       "      <td>1000</td>\n",
       "    </tr>\n",
       "    <tr>\n",
       "      <th>2</th>\n",
       "      <td>3</td>\n",
       "      <td>2023-01-13</td>\n",
       "      <td>CUST003</td>\n",
       "      <td>Male</td>\n",
       "      <td>50</td>\n",
       "      <td>Electronics</td>\n",
       "      <td>1</td>\n",
       "      <td>30</td>\n",
       "      <td>30</td>\n",
       "    </tr>\n",
       "    <tr>\n",
       "      <th>3</th>\n",
       "      <td>4</td>\n",
       "      <td>2023-05-21</td>\n",
       "      <td>CUST004</td>\n",
       "      <td>Male</td>\n",
       "      <td>37</td>\n",
       "      <td>Clothing</td>\n",
       "      <td>1</td>\n",
       "      <td>500</td>\n",
       "      <td>500</td>\n",
       "    </tr>\n",
       "    <tr>\n",
       "      <th>4</th>\n",
       "      <td>5</td>\n",
       "      <td>2023-05-06</td>\n",
       "      <td>CUST005</td>\n",
       "      <td>Male</td>\n",
       "      <td>30</td>\n",
       "      <td>Beauty</td>\n",
       "      <td>2</td>\n",
       "      <td>50</td>\n",
       "      <td>100</td>\n",
       "    </tr>\n",
       "    <tr>\n",
       "      <th>...</th>\n",
       "      <td>...</td>\n",
       "      <td>...</td>\n",
       "      <td>...</td>\n",
       "      <td>...</td>\n",
       "      <td>...</td>\n",
       "      <td>...</td>\n",
       "      <td>...</td>\n",
       "      <td>...</td>\n",
       "      <td>...</td>\n",
       "    </tr>\n",
       "    <tr>\n",
       "      <th>995</th>\n",
       "      <td>996</td>\n",
       "      <td>2023-05-16</td>\n",
       "      <td>CUST996</td>\n",
       "      <td>Male</td>\n",
       "      <td>62</td>\n",
       "      <td>Clothing</td>\n",
       "      <td>1</td>\n",
       "      <td>50</td>\n",
       "      <td>50</td>\n",
       "    </tr>\n",
       "    <tr>\n",
       "      <th>996</th>\n",
       "      <td>997</td>\n",
       "      <td>2023-11-17</td>\n",
       "      <td>CUST997</td>\n",
       "      <td>Male</td>\n",
       "      <td>52</td>\n",
       "      <td>Beauty</td>\n",
       "      <td>3</td>\n",
       "      <td>30</td>\n",
       "      <td>90</td>\n",
       "    </tr>\n",
       "    <tr>\n",
       "      <th>997</th>\n",
       "      <td>998</td>\n",
       "      <td>2023-10-29</td>\n",
       "      <td>CUST998</td>\n",
       "      <td>Female</td>\n",
       "      <td>23</td>\n",
       "      <td>Beauty</td>\n",
       "      <td>4</td>\n",
       "      <td>25</td>\n",
       "      <td>100</td>\n",
       "    </tr>\n",
       "    <tr>\n",
       "      <th>998</th>\n",
       "      <td>999</td>\n",
       "      <td>2023-12-05</td>\n",
       "      <td>CUST999</td>\n",
       "      <td>Female</td>\n",
       "      <td>36</td>\n",
       "      <td>Electronics</td>\n",
       "      <td>3</td>\n",
       "      <td>50</td>\n",
       "      <td>150</td>\n",
       "    </tr>\n",
       "    <tr>\n",
       "      <th>999</th>\n",
       "      <td>1000</td>\n",
       "      <td>2023-04-12</td>\n",
       "      <td>CUST1000</td>\n",
       "      <td>Male</td>\n",
       "      <td>47</td>\n",
       "      <td>Electronics</td>\n",
       "      <td>4</td>\n",
       "      <td>30</td>\n",
       "      <td>120</td>\n",
       "    </tr>\n",
       "  </tbody>\n",
       "</table>\n",
       "<p>1000 rows × 9 columns</p>\n",
       "</div>"
      ],
      "text/plain": [
       "     Transaction ID        Date Customer ID  Gender  Age Product Category  \\\n",
       "0                 1  2023-11-24     CUST001    Male   34           Beauty   \n",
       "1                 2  2023-02-27     CUST002  Female   26         Clothing   \n",
       "2                 3  2023-01-13     CUST003    Male   50      Electronics   \n",
       "3                 4  2023-05-21     CUST004    Male   37         Clothing   \n",
       "4                 5  2023-05-06     CUST005    Male   30           Beauty   \n",
       "..              ...         ...         ...     ...  ...              ...   \n",
       "995             996  2023-05-16     CUST996    Male   62         Clothing   \n",
       "996             997  2023-11-17     CUST997    Male   52           Beauty   \n",
       "997             998  2023-10-29     CUST998  Female   23           Beauty   \n",
       "998             999  2023-12-05     CUST999  Female   36      Electronics   \n",
       "999            1000  2023-04-12    CUST1000    Male   47      Electronics   \n",
       "\n",
       "     Quantity  Price per Unit  Total Amount  \n",
       "0           3              50           150  \n",
       "1           2             500          1000  \n",
       "2           1              30            30  \n",
       "3           1             500           500  \n",
       "4           2              50           100  \n",
       "..        ...             ...           ...  \n",
       "995         1              50            50  \n",
       "996         3              30            90  \n",
       "997         4              25           100  \n",
       "998         3              50           150  \n",
       "999         4              30           120  \n",
       "\n",
       "[1000 rows x 9 columns]"
      ]
     },
     "execution_count": 12,
     "metadata": {},
     "output_type": "execute_result"
    }
   ],
   "source": [
    "df1 = pd.read_csv('retail_sales_dataset.csv')\n",
    "df1"
   ]
  },
  {
   "cell_type": "code",
   "execution_count": 13,
   "id": "725e7a90",
   "metadata": {},
   "outputs": [
    {
     "data": {
      "text/html": [
       "<div>\n",
       "<style scoped>\n",
       "    .dataframe tbody tr th:only-of-type {\n",
       "        vertical-align: middle;\n",
       "    }\n",
       "\n",
       "    .dataframe tbody tr th {\n",
       "        vertical-align: top;\n",
       "    }\n",
       "\n",
       "    .dataframe thead th {\n",
       "        text-align: right;\n",
       "    }\n",
       "</style>\n",
       "<table border=\"1\" class=\"dataframe\">\n",
       "  <thead>\n",
       "    <tr style=\"text-align: right;\">\n",
       "      <th></th>\n",
       "      <th>Category</th>\n",
       "      <th>Item</th>\n",
       "      <th>Serving Size</th>\n",
       "      <th>Calories</th>\n",
       "      <th>Calories from Fat</th>\n",
       "      <th>Total Fat</th>\n",
       "      <th>Total Fat (% Daily Value)</th>\n",
       "      <th>Saturated Fat</th>\n",
       "      <th>Saturated Fat (% Daily Value)</th>\n",
       "      <th>Trans Fat</th>\n",
       "      <th>...</th>\n",
       "      <th>Carbohydrates</th>\n",
       "      <th>Carbohydrates (% Daily Value)</th>\n",
       "      <th>Dietary Fiber</th>\n",
       "      <th>Dietary Fiber (% Daily Value)</th>\n",
       "      <th>Sugars</th>\n",
       "      <th>Protein</th>\n",
       "      <th>Vitamin A (% Daily Value)</th>\n",
       "      <th>Vitamin C (% Daily Value)</th>\n",
       "      <th>Calcium (% Daily Value)</th>\n",
       "      <th>Iron (% Daily Value)</th>\n",
       "    </tr>\n",
       "  </thead>\n",
       "  <tbody>\n",
       "    <tr>\n",
       "      <th>0</th>\n",
       "      <td>Breakfast</td>\n",
       "      <td>Egg McMuffin</td>\n",
       "      <td>4.8 oz (136 g)</td>\n",
       "      <td>300</td>\n",
       "      <td>120</td>\n",
       "      <td>13.0</td>\n",
       "      <td>20</td>\n",
       "      <td>5.0</td>\n",
       "      <td>25</td>\n",
       "      <td>0.0</td>\n",
       "      <td>...</td>\n",
       "      <td>31</td>\n",
       "      <td>10</td>\n",
       "      <td>4</td>\n",
       "      <td>17</td>\n",
       "      <td>3</td>\n",
       "      <td>17</td>\n",
       "      <td>10</td>\n",
       "      <td>0</td>\n",
       "      <td>25</td>\n",
       "      <td>15</td>\n",
       "    </tr>\n",
       "    <tr>\n",
       "      <th>1</th>\n",
       "      <td>Breakfast</td>\n",
       "      <td>Egg White Delight</td>\n",
       "      <td>4.8 oz (135 g)</td>\n",
       "      <td>250</td>\n",
       "      <td>70</td>\n",
       "      <td>8.0</td>\n",
       "      <td>12</td>\n",
       "      <td>3.0</td>\n",
       "      <td>15</td>\n",
       "      <td>0.0</td>\n",
       "      <td>...</td>\n",
       "      <td>30</td>\n",
       "      <td>10</td>\n",
       "      <td>4</td>\n",
       "      <td>17</td>\n",
       "      <td>3</td>\n",
       "      <td>18</td>\n",
       "      <td>6</td>\n",
       "      <td>0</td>\n",
       "      <td>25</td>\n",
       "      <td>8</td>\n",
       "    </tr>\n",
       "    <tr>\n",
       "      <th>2</th>\n",
       "      <td>Breakfast</td>\n",
       "      <td>Sausage McMuffin</td>\n",
       "      <td>3.9 oz (111 g)</td>\n",
       "      <td>370</td>\n",
       "      <td>200</td>\n",
       "      <td>23.0</td>\n",
       "      <td>35</td>\n",
       "      <td>8.0</td>\n",
       "      <td>42</td>\n",
       "      <td>0.0</td>\n",
       "      <td>...</td>\n",
       "      <td>29</td>\n",
       "      <td>10</td>\n",
       "      <td>4</td>\n",
       "      <td>17</td>\n",
       "      <td>2</td>\n",
       "      <td>14</td>\n",
       "      <td>8</td>\n",
       "      <td>0</td>\n",
       "      <td>25</td>\n",
       "      <td>10</td>\n",
       "    </tr>\n",
       "    <tr>\n",
       "      <th>3</th>\n",
       "      <td>Breakfast</td>\n",
       "      <td>Sausage McMuffin with Egg</td>\n",
       "      <td>5.7 oz (161 g)</td>\n",
       "      <td>450</td>\n",
       "      <td>250</td>\n",
       "      <td>28.0</td>\n",
       "      <td>43</td>\n",
       "      <td>10.0</td>\n",
       "      <td>52</td>\n",
       "      <td>0.0</td>\n",
       "      <td>...</td>\n",
       "      <td>30</td>\n",
       "      <td>10</td>\n",
       "      <td>4</td>\n",
       "      <td>17</td>\n",
       "      <td>2</td>\n",
       "      <td>21</td>\n",
       "      <td>15</td>\n",
       "      <td>0</td>\n",
       "      <td>30</td>\n",
       "      <td>15</td>\n",
       "    </tr>\n",
       "    <tr>\n",
       "      <th>4</th>\n",
       "      <td>Breakfast</td>\n",
       "      <td>Sausage McMuffin with Egg Whites</td>\n",
       "      <td>5.7 oz (161 g)</td>\n",
       "      <td>400</td>\n",
       "      <td>210</td>\n",
       "      <td>23.0</td>\n",
       "      <td>35</td>\n",
       "      <td>8.0</td>\n",
       "      <td>42</td>\n",
       "      <td>0.0</td>\n",
       "      <td>...</td>\n",
       "      <td>30</td>\n",
       "      <td>10</td>\n",
       "      <td>4</td>\n",
       "      <td>17</td>\n",
       "      <td>2</td>\n",
       "      <td>21</td>\n",
       "      <td>6</td>\n",
       "      <td>0</td>\n",
       "      <td>25</td>\n",
       "      <td>10</td>\n",
       "    </tr>\n",
       "    <tr>\n",
       "      <th>...</th>\n",
       "      <td>...</td>\n",
       "      <td>...</td>\n",
       "      <td>...</td>\n",
       "      <td>...</td>\n",
       "      <td>...</td>\n",
       "      <td>...</td>\n",
       "      <td>...</td>\n",
       "      <td>...</td>\n",
       "      <td>...</td>\n",
       "      <td>...</td>\n",
       "      <td>...</td>\n",
       "      <td>...</td>\n",
       "      <td>...</td>\n",
       "      <td>...</td>\n",
       "      <td>...</td>\n",
       "      <td>...</td>\n",
       "      <td>...</td>\n",
       "      <td>...</td>\n",
       "      <td>...</td>\n",
       "      <td>...</td>\n",
       "      <td>...</td>\n",
       "    </tr>\n",
       "    <tr>\n",
       "      <th>255</th>\n",
       "      <td>Smoothies &amp; Shakes</td>\n",
       "      <td>McFlurry with Oreo Cookies (Small)</td>\n",
       "      <td>10.1 oz (285 g)</td>\n",
       "      <td>510</td>\n",
       "      <td>150</td>\n",
       "      <td>17.0</td>\n",
       "      <td>26</td>\n",
       "      <td>9.0</td>\n",
       "      <td>44</td>\n",
       "      <td>0.5</td>\n",
       "      <td>...</td>\n",
       "      <td>80</td>\n",
       "      <td>27</td>\n",
       "      <td>1</td>\n",
       "      <td>4</td>\n",
       "      <td>64</td>\n",
       "      <td>12</td>\n",
       "      <td>15</td>\n",
       "      <td>0</td>\n",
       "      <td>40</td>\n",
       "      <td>8</td>\n",
       "    </tr>\n",
       "    <tr>\n",
       "      <th>256</th>\n",
       "      <td>Smoothies &amp; Shakes</td>\n",
       "      <td>McFlurry with Oreo Cookies (Medium)</td>\n",
       "      <td>13.4 oz (381 g)</td>\n",
       "      <td>690</td>\n",
       "      <td>200</td>\n",
       "      <td>23.0</td>\n",
       "      <td>35</td>\n",
       "      <td>12.0</td>\n",
       "      <td>58</td>\n",
       "      <td>1.0</td>\n",
       "      <td>...</td>\n",
       "      <td>106</td>\n",
       "      <td>35</td>\n",
       "      <td>1</td>\n",
       "      <td>5</td>\n",
       "      <td>85</td>\n",
       "      <td>15</td>\n",
       "      <td>20</td>\n",
       "      <td>0</td>\n",
       "      <td>50</td>\n",
       "      <td>10</td>\n",
       "    </tr>\n",
       "    <tr>\n",
       "      <th>257</th>\n",
       "      <td>Smoothies &amp; Shakes</td>\n",
       "      <td>McFlurry with Oreo Cookies (Snack)</td>\n",
       "      <td>6.7 oz (190 g)</td>\n",
       "      <td>340</td>\n",
       "      <td>100</td>\n",
       "      <td>11.0</td>\n",
       "      <td>17</td>\n",
       "      <td>6.0</td>\n",
       "      <td>29</td>\n",
       "      <td>0.0</td>\n",
       "      <td>...</td>\n",
       "      <td>53</td>\n",
       "      <td>18</td>\n",
       "      <td>1</td>\n",
       "      <td>2</td>\n",
       "      <td>43</td>\n",
       "      <td>8</td>\n",
       "      <td>10</td>\n",
       "      <td>0</td>\n",
       "      <td>25</td>\n",
       "      <td>6</td>\n",
       "    </tr>\n",
       "    <tr>\n",
       "      <th>258</th>\n",
       "      <td>Smoothies &amp; Shakes</td>\n",
       "      <td>McFlurry with Reese's Peanut Butter Cups (Medium)</td>\n",
       "      <td>14.2 oz (403 g)</td>\n",
       "      <td>810</td>\n",
       "      <td>290</td>\n",
       "      <td>32.0</td>\n",
       "      <td>50</td>\n",
       "      <td>15.0</td>\n",
       "      <td>76</td>\n",
       "      <td>1.0</td>\n",
       "      <td>...</td>\n",
       "      <td>114</td>\n",
       "      <td>38</td>\n",
       "      <td>2</td>\n",
       "      <td>9</td>\n",
       "      <td>103</td>\n",
       "      <td>21</td>\n",
       "      <td>20</td>\n",
       "      <td>0</td>\n",
       "      <td>60</td>\n",
       "      <td>6</td>\n",
       "    </tr>\n",
       "    <tr>\n",
       "      <th>259</th>\n",
       "      <td>Smoothies &amp; Shakes</td>\n",
       "      <td>McFlurry with Reese's Peanut Butter Cups (Snack)</td>\n",
       "      <td>7.1 oz (202 g)</td>\n",
       "      <td>410</td>\n",
       "      <td>150</td>\n",
       "      <td>16.0</td>\n",
       "      <td>25</td>\n",
       "      <td>8.0</td>\n",
       "      <td>38</td>\n",
       "      <td>0.0</td>\n",
       "      <td>...</td>\n",
       "      <td>57</td>\n",
       "      <td>19</td>\n",
       "      <td>1</td>\n",
       "      <td>5</td>\n",
       "      <td>51</td>\n",
       "      <td>10</td>\n",
       "      <td>10</td>\n",
       "      <td>0</td>\n",
       "      <td>30</td>\n",
       "      <td>4</td>\n",
       "    </tr>\n",
       "  </tbody>\n",
       "</table>\n",
       "<p>260 rows × 24 columns</p>\n",
       "</div>"
      ],
      "text/plain": [
       "               Category                                               Item  \\\n",
       "0             Breakfast                                       Egg McMuffin   \n",
       "1             Breakfast                                  Egg White Delight   \n",
       "2             Breakfast                                   Sausage McMuffin   \n",
       "3             Breakfast                          Sausage McMuffin with Egg   \n",
       "4             Breakfast                   Sausage McMuffin with Egg Whites   \n",
       "..                  ...                                                ...   \n",
       "255  Smoothies & Shakes                 McFlurry with Oreo Cookies (Small)   \n",
       "256  Smoothies & Shakes                McFlurry with Oreo Cookies (Medium)   \n",
       "257  Smoothies & Shakes                 McFlurry with Oreo Cookies (Snack)   \n",
       "258  Smoothies & Shakes  McFlurry with Reese's Peanut Butter Cups (Medium)   \n",
       "259  Smoothies & Shakes   McFlurry with Reese's Peanut Butter Cups (Snack)   \n",
       "\n",
       "        Serving Size  Calories  Calories from Fat  Total Fat  \\\n",
       "0     4.8 oz (136 g)       300                120       13.0   \n",
       "1     4.8 oz (135 g)       250                 70        8.0   \n",
       "2     3.9 oz (111 g)       370                200       23.0   \n",
       "3     5.7 oz (161 g)       450                250       28.0   \n",
       "4     5.7 oz (161 g)       400                210       23.0   \n",
       "..               ...       ...                ...        ...   \n",
       "255  10.1 oz (285 g)       510                150       17.0   \n",
       "256  13.4 oz (381 g)       690                200       23.0   \n",
       "257   6.7 oz (190 g)       340                100       11.0   \n",
       "258  14.2 oz (403 g)       810                290       32.0   \n",
       "259   7.1 oz (202 g)       410                150       16.0   \n",
       "\n",
       "     Total Fat (% Daily Value)  Saturated Fat  Saturated Fat (% Daily Value)  \\\n",
       "0                           20            5.0                             25   \n",
       "1                           12            3.0                             15   \n",
       "2                           35            8.0                             42   \n",
       "3                           43           10.0                             52   \n",
       "4                           35            8.0                             42   \n",
       "..                         ...            ...                            ...   \n",
       "255                         26            9.0                             44   \n",
       "256                         35           12.0                             58   \n",
       "257                         17            6.0                             29   \n",
       "258                         50           15.0                             76   \n",
       "259                         25            8.0                             38   \n",
       "\n",
       "     Trans Fat  ...  Carbohydrates  Carbohydrates (% Daily Value)  \\\n",
       "0          0.0  ...             31                             10   \n",
       "1          0.0  ...             30                             10   \n",
       "2          0.0  ...             29                             10   \n",
       "3          0.0  ...             30                             10   \n",
       "4          0.0  ...             30                             10   \n",
       "..         ...  ...            ...                            ...   \n",
       "255        0.5  ...             80                             27   \n",
       "256        1.0  ...            106                             35   \n",
       "257        0.0  ...             53                             18   \n",
       "258        1.0  ...            114                             38   \n",
       "259        0.0  ...             57                             19   \n",
       "\n",
       "     Dietary Fiber  Dietary Fiber (% Daily Value)  Sugars  Protein  \\\n",
       "0                4                             17       3       17   \n",
       "1                4                             17       3       18   \n",
       "2                4                             17       2       14   \n",
       "3                4                             17       2       21   \n",
       "4                4                             17       2       21   \n",
       "..             ...                            ...     ...      ...   \n",
       "255              1                              4      64       12   \n",
       "256              1                              5      85       15   \n",
       "257              1                              2      43        8   \n",
       "258              2                              9     103       21   \n",
       "259              1                              5      51       10   \n",
       "\n",
       "     Vitamin A (% Daily Value)  Vitamin C (% Daily Value)  \\\n",
       "0                           10                          0   \n",
       "1                            6                          0   \n",
       "2                            8                          0   \n",
       "3                           15                          0   \n",
       "4                            6                          0   \n",
       "..                         ...                        ...   \n",
       "255                         15                          0   \n",
       "256                         20                          0   \n",
       "257                         10                          0   \n",
       "258                         20                          0   \n",
       "259                         10                          0   \n",
       "\n",
       "     Calcium (% Daily Value)  Iron (% Daily Value)  \n",
       "0                         25                    15  \n",
       "1                         25                     8  \n",
       "2                         25                    10  \n",
       "3                         30                    15  \n",
       "4                         25                    10  \n",
       "..                       ...                   ...  \n",
       "255                       40                     8  \n",
       "256                       50                    10  \n",
       "257                       25                     6  \n",
       "258                       60                     6  \n",
       "259                       30                     4  \n",
       "\n",
       "[260 rows x 24 columns]"
      ]
     },
     "execution_count": 13,
     "metadata": {},
     "output_type": "execute_result"
    }
   ],
   "source": [
    "df2 = pd.read_csv('menu.csv')\n",
    "df2"
   ]
  },
  {
   "cell_type": "code",
   "execution_count": 14,
   "id": "9b8f93fd",
   "metadata": {},
   "outputs": [
    {
     "data": {
      "text/plain": [
       "Transaction ID      0\n",
       "Date                0\n",
       "Customer ID         0\n",
       "Gender              0\n",
       "Age                 0\n",
       "Product Category    0\n",
       "Quantity            0\n",
       "Price per Unit      0\n",
       "Total Amount        0\n",
       "dtype: int64"
      ]
     },
     "execution_count": 14,
     "metadata": {},
     "output_type": "execute_result"
    }
   ],
   "source": [
    "# Check for missing values\n",
    "df1.isnull().sum()"
   ]
  },
  {
   "cell_type": "code",
   "execution_count": 15,
   "id": "1223c090",
   "metadata": {},
   "outputs": [
    {
     "data": {
      "text/plain": [
       "Category                         0\n",
       "Item                             0\n",
       "Serving Size                     0\n",
       "Calories                         0\n",
       "Calories from Fat                0\n",
       "Total Fat                        0\n",
       "Total Fat (% Daily Value)        0\n",
       "Saturated Fat                    0\n",
       "Saturated Fat (% Daily Value)    0\n",
       "Trans Fat                        0\n",
       "Cholesterol                      0\n",
       "Cholesterol (% Daily Value)      0\n",
       "Sodium                           0\n",
       "Sodium (% Daily Value)           0\n",
       "Carbohydrates                    0\n",
       "Carbohydrates (% Daily Value)    0\n",
       "Dietary Fiber                    0\n",
       "Dietary Fiber (% Daily Value)    0\n",
       "Sugars                           0\n",
       "Protein                          0\n",
       "Vitamin A (% Daily Value)        0\n",
       "Vitamin C (% Daily Value)        0\n",
       "Calcium (% Daily Value)          0\n",
       "Iron (% Daily Value)             0\n",
       "dtype: int64"
      ]
     },
     "execution_count": 15,
     "metadata": {},
     "output_type": "execute_result"
    }
   ],
   "source": [
    "# Check for missing values\n",
    "df2.isnull().sum()"
   ]
  },
  {
   "cell_type": "code",
   "execution_count": 16,
   "id": "8064d749",
   "metadata": {},
   "outputs": [],
   "source": [
    "df = pd.concat([df1, df2], ignore_index=True)"
   ]
  },
  {
   "cell_type": "code",
   "execution_count": 17,
   "id": "8e2fc40f",
   "metadata": {},
   "outputs": [
    {
     "data": {
      "text/plain": [
       "Transaction ID                    260\n",
       "Date                              260\n",
       "Customer ID                       260\n",
       "Gender                            260\n",
       "Age                               260\n",
       "Product Category                  260\n",
       "Quantity                          260\n",
       "Price per Unit                    260\n",
       "Total Amount                      260\n",
       "Category                         1000\n",
       "Item                             1000\n",
       "Serving Size                     1000\n",
       "Calories                         1000\n",
       "Calories from Fat                1000\n",
       "Total Fat                        1000\n",
       "Total Fat (% Daily Value)        1000\n",
       "Saturated Fat                    1000\n",
       "Saturated Fat (% Daily Value)    1000\n",
       "Trans Fat                        1000\n",
       "Cholesterol                      1000\n",
       "Cholesterol (% Daily Value)      1000\n",
       "Sodium                           1000\n",
       "Sodium (% Daily Value)           1000\n",
       "Carbohydrates                    1000\n",
       "Carbohydrates (% Daily Value)    1000\n",
       "Dietary Fiber                    1000\n",
       "Dietary Fiber (% Daily Value)    1000\n",
       "Sugars                           1000\n",
       "Protein                          1000\n",
       "Vitamin A (% Daily Value)        1000\n",
       "Vitamin C (% Daily Value)        1000\n",
       "Calcium (% Daily Value)          1000\n",
       "Iron (% Daily Value)             1000\n",
       "dtype: int64"
      ]
     },
     "execution_count": 17,
     "metadata": {},
     "output_type": "execute_result"
    }
   ],
   "source": [
    "df.isnull().sum()"
   ]
  },
  {
   "cell_type": "code",
   "execution_count": 18,
   "id": "e2b23f75",
   "metadata": {},
   "outputs": [],
   "source": [
    "df.fillna(method='ffill', inplace=True)"
   ]
  },
  {
   "cell_type": "code",
   "execution_count": 19,
   "id": "0ab83491",
   "metadata": {},
   "outputs": [],
   "source": [
    "df.drop_duplicates(inplace=True)"
   ]
  },
  {
   "cell_type": "code",
   "execution_count": 20,
   "id": "0b7a93fd",
   "metadata": {},
   "outputs": [
    {
     "name": "stdout",
     "output_type": "stream",
     "text": [
      "       Transaction ID          Age     Quantity  Price per Unit  Total Amount  \\\n",
      "count     1260.000000  1260.000000  1260.000000     1260.000000   1260.000000   \n",
      "mean       603.571429    42.549206     2.820635      148.960317    386.666667   \n",
      "std        327.235306    12.396800     1.174749      179.530515    517.048314   \n",
      "min          1.000000    18.000000     1.000000       25.000000     25.000000   \n",
      "25%        315.750000    33.000000     2.000000       30.000000     90.000000   \n",
      "50%        630.500000    47.000000     3.000000       30.000000    120.000000   \n",
      "75%        945.250000    50.000000     4.000000      300.000000    500.000000   \n",
      "max       1000.000000    64.000000     4.000000      500.000000   2000.000000   \n",
      "\n",
      "          Calories  Calories from Fat   Total Fat  Total Fat (% Daily Value)  \\\n",
      "count   260.000000         260.000000  260.000000                 260.000000   \n",
      "mean    368.269231         127.096154   14.165385                  21.815385   \n",
      "std     240.269886         127.875914   14.205998                  21.885199   \n",
      "min       0.000000           0.000000    0.000000                   0.000000   \n",
      "25%     210.000000          20.000000    2.375000                   3.750000   \n",
      "50%     340.000000         100.000000   11.000000                  17.000000   \n",
      "75%     500.000000         200.000000   22.250000                  35.000000   \n",
      "max    1880.000000        1060.000000  118.000000                 182.000000   \n",
      "\n",
      "       Saturated Fat  ...  Carbohydrates  Carbohydrates (% Daily Value)  \\\n",
      "count     260.000000  ...     260.000000                     260.000000   \n",
      "mean        6.007692  ...      47.346154                      15.780769   \n",
      "std         5.321873  ...      28.252232                       9.419544   \n",
      "min         0.000000  ...       0.000000                       0.000000   \n",
      "25%         1.000000  ...      30.000000                      10.000000   \n",
      "50%         5.000000  ...      44.000000                      15.000000   \n",
      "75%        10.000000  ...      60.000000                      20.000000   \n",
      "max        20.000000  ...     141.000000                      47.000000   \n",
      "\n",
      "       Dietary Fiber  Dietary Fiber (% Daily Value)      Sugars     Protein  \\\n",
      "count     260.000000                     260.000000  260.000000  260.000000   \n",
      "mean        1.630769                       6.530769   29.423077   13.338462   \n",
      "std         1.567717                       6.307057   28.679797   11.426146   \n",
      "min         0.000000                       0.000000    0.000000    0.000000   \n",
      "25%         0.000000                       0.000000    5.750000    4.000000   \n",
      "50%         1.000000                       5.000000   17.500000   12.000000   \n",
      "75%         3.000000                      10.000000   48.000000   19.000000   \n",
      "max         7.000000                      28.000000  128.000000   87.000000   \n",
      "\n",
      "       Vitamin A (% Daily Value)  Vitamin C (% Daily Value)  \\\n",
      "count                 260.000000                 260.000000   \n",
      "mean                   13.426923                   8.534615   \n",
      "std                    24.366381                  26.345542   \n",
      "min                     0.000000                   0.000000   \n",
      "25%                     2.000000                   0.000000   \n",
      "50%                     8.000000                   0.000000   \n",
      "75%                    15.000000                   4.000000   \n",
      "max                   170.000000                 240.000000   \n",
      "\n",
      "       Calcium (% Daily Value)  Iron (% Daily Value)  \n",
      "count               260.000000            260.000000  \n",
      "mean                 20.973077              7.734615  \n",
      "std                  17.019953              8.723263  \n",
      "min                   0.000000              0.000000  \n",
      "25%                   6.000000              0.000000  \n",
      "50%                  20.000000              4.000000  \n",
      "75%                  30.000000             15.000000  \n",
      "max                  70.000000             40.000000  \n",
      "\n",
      "[8 rows x 26 columns]\n"
     ]
    }
   ],
   "source": [
    "print(df.describe())"
   ]
  },
  {
   "cell_type": "code",
   "execution_count": 21,
   "id": "98d9cdbb",
   "metadata": {},
   "outputs": [
    {
     "data": {
      "text/plain": [
       "Index(['Transaction ID', 'Date', 'Customer ID', 'Gender', 'Age',\n",
       "       'Product Category', 'Quantity', 'Price per Unit', 'Total Amount',\n",
       "       'Category', 'Item', 'Serving Size', 'Calories', 'Calories from Fat',\n",
       "       'Total Fat', 'Total Fat (% Daily Value)', 'Saturated Fat',\n",
       "       'Saturated Fat (% Daily Value)', 'Trans Fat', 'Cholesterol',\n",
       "       'Cholesterol (% Daily Value)', 'Sodium', 'Sodium (% Daily Value)',\n",
       "       'Carbohydrates', 'Carbohydrates (% Daily Value)', 'Dietary Fiber',\n",
       "       'Dietary Fiber (% Daily Value)', 'Sugars', 'Protein',\n",
       "       'Vitamin A (% Daily Value)', 'Vitamin C (% Daily Value)',\n",
       "       'Calcium (% Daily Value)', 'Iron (% Daily Value)'],\n",
       "      dtype='object')"
      ]
     },
     "execution_count": 21,
     "metadata": {},
     "output_type": "execute_result"
    }
   ],
   "source": [
    "df.columns"
   ]
  },
  {
   "cell_type": "code",
   "execution_count": 22,
   "id": "f364a0e7",
   "metadata": {},
   "outputs": [],
   "source": [
    "df.columns = df.columns.str.strip() "
   ]
  },
  {
   "cell_type": "code",
   "execution_count": 23,
   "id": "e870b6aa",
   "metadata": {},
   "outputs": [
    {
     "name": "stdout",
     "output_type": "stream",
     "text": [
      "   Transaction ID        Date Customer ID  Gender   Age Product Category  \\\n",
      "0             1.0  2023-11-24     CUST001    Male  34.0           Beauty   \n",
      "1             2.0  2023-02-27     CUST002  Female  26.0         Clothing   \n",
      "2             3.0  2023-01-13     CUST003    Male  50.0      Electronics   \n",
      "3             4.0  2023-05-21     CUST004    Male  37.0         Clothing   \n",
      "4             5.0  2023-05-06     CUST005    Male  30.0           Beauty   \n",
      "\n",
      "   Quantity  Price per Unit  Total Amount Category  ... Carbohydrates  \\\n",
      "0       3.0            50.0         150.0      NaN  ...           NaN   \n",
      "1       2.0           500.0        1000.0      NaN  ...           NaN   \n",
      "2       1.0            30.0          30.0      NaN  ...           NaN   \n",
      "3       1.0           500.0         500.0      NaN  ...           NaN   \n",
      "4       2.0            50.0         100.0      NaN  ...           NaN   \n",
      "\n",
      "  Carbohydrates (% Daily Value)  Dietary Fiber  Dietary Fiber (% Daily Value)  \\\n",
      "0                           NaN            NaN                            NaN   \n",
      "1                           NaN            NaN                            NaN   \n",
      "2                           NaN            NaN                            NaN   \n",
      "3                           NaN            NaN                            NaN   \n",
      "4                           NaN            NaN                            NaN   \n",
      "\n",
      "   Sugars  Protein  Vitamin A (% Daily Value)  Vitamin C (% Daily Value)  \\\n",
      "0     NaN      NaN                        NaN                        NaN   \n",
      "1     NaN      NaN                        NaN                        NaN   \n",
      "2     NaN      NaN                        NaN                        NaN   \n",
      "3     NaN      NaN                        NaN                        NaN   \n",
      "4     NaN      NaN                        NaN                        NaN   \n",
      "\n",
      "   Calcium (% Daily Value)  Iron (% Daily Value)  \n",
      "0                      NaN                   NaN  \n",
      "1                      NaN                   NaN  \n",
      "2                      NaN                   NaN  \n",
      "3                      NaN                   NaN  \n",
      "4                      NaN                   NaN  \n",
      "\n",
      "[5 rows x 33 columns]\n"
     ]
    }
   ],
   "source": [
    "print(df.head())"
   ]
  },
  {
   "cell_type": "code",
   "execution_count": 24,
   "id": "a87d225d",
   "metadata": {},
   "outputs": [
    {
     "name": "stdout",
     "output_type": "stream",
     "text": [
      "      Transaction ID        Date Customer ID Gender   Age Product Category  \\\n",
      "1255          1000.0  2023-04-12    CUST1000   Male  47.0      Electronics   \n",
      "1256          1000.0  2023-04-12    CUST1000   Male  47.0      Electronics   \n",
      "1257          1000.0  2023-04-12    CUST1000   Male  47.0      Electronics   \n",
      "1258          1000.0  2023-04-12    CUST1000   Male  47.0      Electronics   \n",
      "1259          1000.0  2023-04-12    CUST1000   Male  47.0      Electronics   \n",
      "\n",
      "      Quantity  Price per Unit  Total Amount            Category  ...  \\\n",
      "1255       4.0            30.0         120.0  Smoothies & Shakes  ...   \n",
      "1256       4.0            30.0         120.0  Smoothies & Shakes  ...   \n",
      "1257       4.0            30.0         120.0  Smoothies & Shakes  ...   \n",
      "1258       4.0            30.0         120.0  Smoothies & Shakes  ...   \n",
      "1259       4.0            30.0         120.0  Smoothies & Shakes  ...   \n",
      "\n",
      "     Carbohydrates Carbohydrates (% Daily Value)  Dietary Fiber  \\\n",
      "1255          80.0                          27.0            1.0   \n",
      "1256         106.0                          35.0            1.0   \n",
      "1257          53.0                          18.0            1.0   \n",
      "1258         114.0                          38.0            2.0   \n",
      "1259          57.0                          19.0            1.0   \n",
      "\n",
      "      Dietary Fiber (% Daily Value)  Sugars  Protein  \\\n",
      "1255                            4.0    64.0     12.0   \n",
      "1256                            5.0    85.0     15.0   \n",
      "1257                            2.0    43.0      8.0   \n",
      "1258                            9.0   103.0     21.0   \n",
      "1259                            5.0    51.0     10.0   \n",
      "\n",
      "      Vitamin A (% Daily Value)  Vitamin C (% Daily Value)  \\\n",
      "1255                       15.0                        0.0   \n",
      "1256                       20.0                        0.0   \n",
      "1257                       10.0                        0.0   \n",
      "1258                       20.0                        0.0   \n",
      "1259                       10.0                        0.0   \n",
      "\n",
      "      Calcium (% Daily Value)  Iron (% Daily Value)  \n",
      "1255                     40.0                   8.0  \n",
      "1256                     50.0                  10.0  \n",
      "1257                     25.0                   6.0  \n",
      "1258                     60.0                   6.0  \n",
      "1259                     30.0                   4.0  \n",
      "\n",
      "[5 rows x 33 columns]\n"
     ]
    }
   ],
   "source": [
    "print(df.tail())"
   ]
  },
  {
   "cell_type": "code",
   "execution_count": 25,
   "id": "6466236f",
   "metadata": {},
   "outputs": [],
   "source": [
    "df1.drop_duplicates(inplace=True)"
   ]
  },
  {
   "cell_type": "code",
   "execution_count": 26,
   "id": "4f27b455",
   "metadata": {},
   "outputs": [],
   "source": [
    "df2.drop_duplicates(inplace=True)"
   ]
  },
  {
   "cell_type": "markdown",
   "id": "a524d6d8",
   "metadata": {},
   "source": [
    "#Descriptive Statistics: Calculate basic statistics (mean, median, mode, standard deviation)."
   ]
  },
  {
   "cell_type": "code",
   "execution_count": 28,
   "id": "0ae0dc29",
   "metadata": {},
   "outputs": [
    {
     "name": "stdout",
     "output_type": "stream",
     "text": [
      "        Transaction ID        Date Customer ID Gender          Age  \\\n",
      "count      1260.000000        1260        1260   1260  1260.000000   \n",
      "unique             NaN         345        1000      2          NaN   \n",
      "top                NaN  2023-04-12    CUST1000   Male          NaN   \n",
      "freq               NaN         265         261    750          NaN   \n",
      "mean        603.571429         NaN         NaN    NaN    42.549206   \n",
      "std         327.235306         NaN         NaN    NaN    12.396800   \n",
      "min           1.000000         NaN         NaN    NaN    18.000000   \n",
      "25%         315.750000         NaN         NaN    NaN    33.000000   \n",
      "50%         630.500000         NaN         NaN    NaN    47.000000   \n",
      "75%         945.250000         NaN         NaN    NaN    50.000000   \n",
      "max        1000.000000         NaN         NaN    NaN    64.000000   \n",
      "\n",
      "       Product Category     Quantity  Price per Unit  Total Amount  \\\n",
      "count              1260  1260.000000     1260.000000   1260.000000   \n",
      "unique                3          NaN             NaN           NaN   \n",
      "top         Electronics          NaN             NaN           NaN   \n",
      "freq                602          NaN             NaN           NaN   \n",
      "mean                NaN     2.820635      148.960317    386.666667   \n",
      "std                 NaN     1.174749      179.530515    517.048314   \n",
      "min                 NaN     1.000000       25.000000     25.000000   \n",
      "25%                 NaN     2.000000       30.000000     90.000000   \n",
      "50%                 NaN     3.000000       30.000000    120.000000   \n",
      "75%                 NaN     4.000000      300.000000    500.000000   \n",
      "max                 NaN     4.000000      500.000000   2000.000000   \n",
      "\n",
      "            Category  ... Carbohydrates Carbohydrates (% Daily Value)  \\\n",
      "count            260  ...    260.000000                    260.000000   \n",
      "unique             9  ...           NaN                           NaN   \n",
      "top     Coffee & Tea  ...           NaN                           NaN   \n",
      "freq              95  ...           NaN                           NaN   \n",
      "mean             NaN  ...     47.346154                     15.780769   \n",
      "std              NaN  ...     28.252232                      9.419544   \n",
      "min              NaN  ...      0.000000                      0.000000   \n",
      "25%              NaN  ...     30.000000                     10.000000   \n",
      "50%              NaN  ...     44.000000                     15.000000   \n",
      "75%              NaN  ...     60.000000                     20.000000   \n",
      "max              NaN  ...    141.000000                     47.000000   \n",
      "\n",
      "        Dietary Fiber  Dietary Fiber (% Daily Value)      Sugars     Protein  \\\n",
      "count      260.000000                     260.000000  260.000000  260.000000   \n",
      "unique            NaN                            NaN         NaN         NaN   \n",
      "top               NaN                            NaN         NaN         NaN   \n",
      "freq              NaN                            NaN         NaN         NaN   \n",
      "mean         1.630769                       6.530769   29.423077   13.338462   \n",
      "std          1.567717                       6.307057   28.679797   11.426146   \n",
      "min          0.000000                       0.000000    0.000000    0.000000   \n",
      "25%          0.000000                       0.000000    5.750000    4.000000   \n",
      "50%          1.000000                       5.000000   17.500000   12.000000   \n",
      "75%          3.000000                      10.000000   48.000000   19.000000   \n",
      "max          7.000000                      28.000000  128.000000   87.000000   \n",
      "\n",
      "        Vitamin A (% Daily Value)  Vitamin C (% Daily Value)  \\\n",
      "count                  260.000000                 260.000000   \n",
      "unique                        NaN                        NaN   \n",
      "top                           NaN                        NaN   \n",
      "freq                          NaN                        NaN   \n",
      "mean                    13.426923                   8.534615   \n",
      "std                     24.366381                  26.345542   \n",
      "min                      0.000000                   0.000000   \n",
      "25%                      2.000000                   0.000000   \n",
      "50%                      8.000000                   0.000000   \n",
      "75%                     15.000000                   4.000000   \n",
      "max                    170.000000                 240.000000   \n",
      "\n",
      "        Calcium (% Daily Value)  Iron (% Daily Value)  \n",
      "count                260.000000            260.000000  \n",
      "unique                      NaN                   NaN  \n",
      "top                         NaN                   NaN  \n",
      "freq                        NaN                   NaN  \n",
      "mean                  20.973077              7.734615  \n",
      "std                   17.019953              8.723263  \n",
      "min                    0.000000              0.000000  \n",
      "25%                    6.000000              0.000000  \n",
      "50%                   20.000000              4.000000  \n",
      "75%                   30.000000             15.000000  \n",
      "max                   70.000000             40.000000  \n",
      "\n",
      "[11 rows x 33 columns]\n"
     ]
    }
   ],
   "source": [
    "# Descriptive statistics\n",
    "descriptive_stats = df.describe(include='all')  # Include all columns\n",
    "print(descriptive_stats)"
   ]
  },
  {
   "cell_type": "code",
   "execution_count": 29,
   "id": "7da98b33",
   "metadata": {},
   "outputs": [
    {
     "name": "stdout",
     "output_type": "stream",
     "text": [
      "   Transaction ID        Date Customer ID  Gender   Age Product Category  \\\n",
      "0             1.0  2023-11-24     CUST001    Male  34.0           Beauty   \n",
      "1             2.0  2023-02-27     CUST002  Female  26.0         Clothing   \n",
      "2             3.0  2023-01-13     CUST003    Male  50.0      Electronics   \n",
      "3             4.0  2023-05-21     CUST004    Male  37.0         Clothing   \n",
      "4             5.0  2023-05-06     CUST005    Male  30.0           Beauty   \n",
      "\n",
      "   Quantity  Price per Unit  Total Amount Category  ... Carbohydrates  \\\n",
      "0       3.0            50.0         150.0      NaN  ...           NaN   \n",
      "1       2.0           500.0        1000.0      NaN  ...           NaN   \n",
      "2       1.0            30.0          30.0      NaN  ...           NaN   \n",
      "3       1.0           500.0         500.0      NaN  ...           NaN   \n",
      "4       2.0            50.0         100.0      NaN  ...           NaN   \n",
      "\n",
      "  Carbohydrates (% Daily Value)  Dietary Fiber  Dietary Fiber (% Daily Value)  \\\n",
      "0                           NaN            NaN                            NaN   \n",
      "1                           NaN            NaN                            NaN   \n",
      "2                           NaN            NaN                            NaN   \n",
      "3                           NaN            NaN                            NaN   \n",
      "4                           NaN            NaN                            NaN   \n",
      "\n",
      "   Sugars  Protein  Vitamin A (% Daily Value)  Vitamin C (% Daily Value)  \\\n",
      "0     NaN      NaN                        NaN                        NaN   \n",
      "1     NaN      NaN                        NaN                        NaN   \n",
      "2     NaN      NaN                        NaN                        NaN   \n",
      "3     NaN      NaN                        NaN                        NaN   \n",
      "4     NaN      NaN                        NaN                        NaN   \n",
      "\n",
      "   Calcium (% Daily Value)  Iron (% Daily Value)  \n",
      "0                      NaN                   NaN  \n",
      "1                      NaN                   NaN  \n",
      "2                      NaN                   NaN  \n",
      "3                      NaN                   NaN  \n",
      "4                      NaN                   NaN  \n",
      "\n",
      "[5 rows x 33 columns]\n"
     ]
    }
   ],
   "source": [
    "print(df.head())"
   ]
  },
  {
   "cell_type": "code",
   "execution_count": 30,
   "id": "bb880c74",
   "metadata": {},
   "outputs": [
    {
     "name": "stdout",
     "output_type": "stream",
     "text": [
      "Index(['Transaction ID', 'Date', 'Customer ID', 'Gender', 'Age',\n",
      "       'Product Category', 'Quantity', 'Price per Unit', 'Total Amount',\n",
      "       'Category', 'Item', 'Serving Size', 'Calories', 'Calories from Fat',\n",
      "       'Total Fat', 'Total Fat (% Daily Value)', 'Saturated Fat',\n",
      "       'Saturated Fat (% Daily Value)', 'Trans Fat', 'Cholesterol',\n",
      "       'Cholesterol (% Daily Value)', 'Sodium', 'Sodium (% Daily Value)',\n",
      "       'Carbohydrates', 'Carbohydrates (% Daily Value)', 'Dietary Fiber',\n",
      "       'Dietary Fiber (% Daily Value)', 'Sugars', 'Protein',\n",
      "       'Vitamin A (% Daily Value)', 'Vitamin C (% Daily Value)',\n",
      "       'Calcium (% Daily Value)', 'Iron (% Daily Value)'],\n",
      "      dtype='object')\n"
     ]
    }
   ],
   "source": [
    "print(df.columns)"
   ]
  },
  {
   "cell_type": "code",
   "execution_count": 31,
   "id": "d336bd29",
   "metadata": {},
   "outputs": [
    {
     "name": "stdout",
     "output_type": "stream",
     "text": [
      "Mean: 42.54920634920635\n"
     ]
    }
   ],
   "source": [
    "# Calculate mean\n",
    "mean_Age = df['Age'].mean()\n",
    "print(f'Mean: {mean_Age}')"
   ]
  },
  {
   "cell_type": "code",
   "execution_count": 32,
   "id": "d9000cb6",
   "metadata": {},
   "outputs": [
    {
     "name": "stdout",
     "output_type": "stream",
     "text": [
      "Median: 47.0\n"
     ]
    }
   ],
   "source": [
    "# Calculate median\n",
    "median_Age = df['Age'].median()\n",
    "print(f'Median: {median_Age}')"
   ]
  },
  {
   "cell_type": "code",
   "execution_count": 33,
   "id": "ecb8886e",
   "metadata": {},
   "outputs": [
    {
     "name": "stdout",
     "output_type": "stream",
     "text": [
      "Mode: [47.0]\n"
     ]
    }
   ],
   "source": [
    "# Calculate mode\n",
    "mode_Age = df['Age'].mode()\n",
    "print(f'Mode: {mode_Age.tolist()}')  "
   ]
  },
  {
   "cell_type": "code",
   "execution_count": 34,
   "id": "854ae897",
   "metadata": {},
   "outputs": [
    {
     "name": "stdout",
     "output_type": "stream",
     "text": [
      "Standard Deviation: 12.396800338111152\n"
     ]
    }
   ],
   "source": [
    "# Calculate standard deviation\n",
    "std_dev_Age = df['Age'].std()\n",
    "print(f'Standard Deviation: {std_dev_Age}')"
   ]
  },
  {
   "cell_type": "raw",
   "id": "515b537f",
   "metadata": {},
   "source": [
    "#Time Series Analysis: Analyze sales trends over time using time series techniques."
   ]
  },
  {
   "cell_type": "code",
   "execution_count": 51,
   "id": "48c2d622",
   "metadata": {},
   "outputs": [],
   "source": [
    "df = pd.read_csv('retail_sales_dataset.csv')"
   ]
  },
  {
   "cell_type": "code",
   "execution_count": 52,
   "id": "f4ebd25c",
   "metadata": {},
   "outputs": [
    {
     "data": {
      "text/html": [
       "<div>\n",
       "<style scoped>\n",
       "    .dataframe tbody tr th:only-of-type {\n",
       "        vertical-align: middle;\n",
       "    }\n",
       "\n",
       "    .dataframe tbody tr th {\n",
       "        vertical-align: top;\n",
       "    }\n",
       "\n",
       "    .dataframe thead th {\n",
       "        text-align: right;\n",
       "    }\n",
       "</style>\n",
       "<table border=\"1\" class=\"dataframe\">\n",
       "  <thead>\n",
       "    <tr style=\"text-align: right;\">\n",
       "      <th></th>\n",
       "      <th>Transaction ID</th>\n",
       "      <th>Date</th>\n",
       "      <th>Customer ID</th>\n",
       "      <th>Gender</th>\n",
       "      <th>Age</th>\n",
       "      <th>Product Category</th>\n",
       "      <th>Quantity</th>\n",
       "      <th>Price per Unit</th>\n",
       "      <th>Total Amount</th>\n",
       "    </tr>\n",
       "  </thead>\n",
       "  <tbody>\n",
       "    <tr>\n",
       "      <th>0</th>\n",
       "      <td>1</td>\n",
       "      <td>2023-11-24</td>\n",
       "      <td>CUST001</td>\n",
       "      <td>Male</td>\n",
       "      <td>34</td>\n",
       "      <td>Beauty</td>\n",
       "      <td>3</td>\n",
       "      <td>50</td>\n",
       "      <td>150</td>\n",
       "    </tr>\n",
       "    <tr>\n",
       "      <th>1</th>\n",
       "      <td>2</td>\n",
       "      <td>2023-02-27</td>\n",
       "      <td>CUST002</td>\n",
       "      <td>Female</td>\n",
       "      <td>26</td>\n",
       "      <td>Clothing</td>\n",
       "      <td>2</td>\n",
       "      <td>500</td>\n",
       "      <td>1000</td>\n",
       "    </tr>\n",
       "    <tr>\n",
       "      <th>2</th>\n",
       "      <td>3</td>\n",
       "      <td>2023-01-13</td>\n",
       "      <td>CUST003</td>\n",
       "      <td>Male</td>\n",
       "      <td>50</td>\n",
       "      <td>Electronics</td>\n",
       "      <td>1</td>\n",
       "      <td>30</td>\n",
       "      <td>30</td>\n",
       "    </tr>\n",
       "    <tr>\n",
       "      <th>3</th>\n",
       "      <td>4</td>\n",
       "      <td>2023-05-21</td>\n",
       "      <td>CUST004</td>\n",
       "      <td>Male</td>\n",
       "      <td>37</td>\n",
       "      <td>Clothing</td>\n",
       "      <td>1</td>\n",
       "      <td>500</td>\n",
       "      <td>500</td>\n",
       "    </tr>\n",
       "    <tr>\n",
       "      <th>4</th>\n",
       "      <td>5</td>\n",
       "      <td>2023-05-06</td>\n",
       "      <td>CUST005</td>\n",
       "      <td>Male</td>\n",
       "      <td>30</td>\n",
       "      <td>Beauty</td>\n",
       "      <td>2</td>\n",
       "      <td>50</td>\n",
       "      <td>100</td>\n",
       "    </tr>\n",
       "    <tr>\n",
       "      <th>...</th>\n",
       "      <td>...</td>\n",
       "      <td>...</td>\n",
       "      <td>...</td>\n",
       "      <td>...</td>\n",
       "      <td>...</td>\n",
       "      <td>...</td>\n",
       "      <td>...</td>\n",
       "      <td>...</td>\n",
       "      <td>...</td>\n",
       "    </tr>\n",
       "    <tr>\n",
       "      <th>995</th>\n",
       "      <td>996</td>\n",
       "      <td>2023-05-16</td>\n",
       "      <td>CUST996</td>\n",
       "      <td>Male</td>\n",
       "      <td>62</td>\n",
       "      <td>Clothing</td>\n",
       "      <td>1</td>\n",
       "      <td>50</td>\n",
       "      <td>50</td>\n",
       "    </tr>\n",
       "    <tr>\n",
       "      <th>996</th>\n",
       "      <td>997</td>\n",
       "      <td>2023-11-17</td>\n",
       "      <td>CUST997</td>\n",
       "      <td>Male</td>\n",
       "      <td>52</td>\n",
       "      <td>Beauty</td>\n",
       "      <td>3</td>\n",
       "      <td>30</td>\n",
       "      <td>90</td>\n",
       "    </tr>\n",
       "    <tr>\n",
       "      <th>997</th>\n",
       "      <td>998</td>\n",
       "      <td>2023-10-29</td>\n",
       "      <td>CUST998</td>\n",
       "      <td>Female</td>\n",
       "      <td>23</td>\n",
       "      <td>Beauty</td>\n",
       "      <td>4</td>\n",
       "      <td>25</td>\n",
       "      <td>100</td>\n",
       "    </tr>\n",
       "    <tr>\n",
       "      <th>998</th>\n",
       "      <td>999</td>\n",
       "      <td>2023-12-05</td>\n",
       "      <td>CUST999</td>\n",
       "      <td>Female</td>\n",
       "      <td>36</td>\n",
       "      <td>Electronics</td>\n",
       "      <td>3</td>\n",
       "      <td>50</td>\n",
       "      <td>150</td>\n",
       "    </tr>\n",
       "    <tr>\n",
       "      <th>999</th>\n",
       "      <td>1000</td>\n",
       "      <td>2023-04-12</td>\n",
       "      <td>CUST1000</td>\n",
       "      <td>Male</td>\n",
       "      <td>47</td>\n",
       "      <td>Electronics</td>\n",
       "      <td>4</td>\n",
       "      <td>30</td>\n",
       "      <td>120</td>\n",
       "    </tr>\n",
       "  </tbody>\n",
       "</table>\n",
       "<p>1000 rows × 9 columns</p>\n",
       "</div>"
      ],
      "text/plain": [
       "     Transaction ID        Date Customer ID  Gender  Age Product Category  \\\n",
       "0                 1  2023-11-24     CUST001    Male   34           Beauty   \n",
       "1                 2  2023-02-27     CUST002  Female   26         Clothing   \n",
       "2                 3  2023-01-13     CUST003    Male   50      Electronics   \n",
       "3                 4  2023-05-21     CUST004    Male   37         Clothing   \n",
       "4                 5  2023-05-06     CUST005    Male   30           Beauty   \n",
       "..              ...         ...         ...     ...  ...              ...   \n",
       "995             996  2023-05-16     CUST996    Male   62         Clothing   \n",
       "996             997  2023-11-17     CUST997    Male   52           Beauty   \n",
       "997             998  2023-10-29     CUST998  Female   23           Beauty   \n",
       "998             999  2023-12-05     CUST999  Female   36      Electronics   \n",
       "999            1000  2023-04-12    CUST1000    Male   47      Electronics   \n",
       "\n",
       "     Quantity  Price per Unit  Total Amount  \n",
       "0           3              50           150  \n",
       "1           2             500          1000  \n",
       "2           1              30            30  \n",
       "3           1             500           500  \n",
       "4           2              50           100  \n",
       "..        ...             ...           ...  \n",
       "995         1              50            50  \n",
       "996         3              30            90  \n",
       "997         4              25           100  \n",
       "998         3              50           150  \n",
       "999         4              30           120  \n",
       "\n",
       "[1000 rows x 9 columns]"
      ]
     },
     "execution_count": 52,
     "metadata": {},
     "output_type": "execute_result"
    }
   ],
   "source": [
    "df"
   ]
  },
  {
   "cell_type": "code",
   "execution_count": 53,
   "id": "448bbec7",
   "metadata": {},
   "outputs": [
    {
     "data": {
      "text/plain": [
       "Index(['Transaction ID', 'Date', 'Customer ID', 'Gender', 'Age',\n",
       "       'Product Category', 'Quantity', 'Price per Unit', 'Total Amount'],\n",
       "      dtype='object')"
      ]
     },
     "execution_count": 53,
     "metadata": {},
     "output_type": "execute_result"
    }
   ],
   "source": [
    "df.columns"
   ]
  },
  {
   "cell_type": "code",
   "execution_count": 54,
   "id": "ca245523",
   "metadata": {},
   "outputs": [],
   "source": [
    "df['Date'] = pd.to_datetime(df['Date'])"
   ]
  },
  {
   "cell_type": "code",
   "execution_count": 55,
   "id": "2b07e986",
   "metadata": {},
   "outputs": [],
   "source": [
    "df.set_index('Date', inplace=True)"
   ]
  },
  {
   "cell_type": "code",
   "execution_count": 56,
   "id": "ac74a458",
   "metadata": {},
   "outputs": [
    {
     "name": "stdout",
     "output_type": "stream",
     "text": [
      "            Transaction ID Customer ID  Gender  Age Product Category  \\\n",
      "Date                                                                   \n",
      "2023-11-24               1     CUST001    Male   34           Beauty   \n",
      "2023-02-27               2     CUST002  Female   26         Clothing   \n",
      "2023-01-13               3     CUST003    Male   50      Electronics   \n",
      "2023-05-21               4     CUST004    Male   37         Clothing   \n",
      "2023-05-06               5     CUST005    Male   30           Beauty   \n",
      "\n",
      "            Quantity  Price per Unit  Total Amount  \n",
      "Date                                                \n",
      "2023-11-24         3              50           150  \n",
      "2023-02-27         2             500          1000  \n",
      "2023-01-13         1              30            30  \n",
      "2023-05-21         1             500           500  \n",
      "2023-05-06         2              50           100  \n"
     ]
    }
   ],
   "source": [
    "print(df.head())"
   ]
  },
  {
   "cell_type": "code",
   "execution_count": 57,
   "id": "3919cb70",
   "metadata": {},
   "outputs": [],
   "source": [
    "monthly_sales = df.resample('M')['Total Amount'].sum()"
   ]
  },
  {
   "cell_type": "code",
   "execution_count": 58,
   "id": "7f1805ec",
   "metadata": {},
   "outputs": [
    {
     "name": "stdout",
     "output_type": "stream",
     "text": [
      "Date\n",
      "2023-01-31    35450\n",
      "2023-02-28    44060\n",
      "2023-03-31    28990\n",
      "2023-04-30    33870\n",
      "2023-05-31    53150\n",
      "Freq: M, Name: Total Amount, dtype: int64\n"
     ]
    }
   ],
   "source": [
    "print(monthly_sales.head())"
   ]
  },
  {
   "cell_type": "code",
   "execution_count": 59,
   "id": "120b609d",
   "metadata": {},
   "outputs": [
    {
     "data": {
      "image/png": "[encoded data removed]",
      "text/plain": [
       "<Figure size 1200x600 with 1 Axes>"
      ]
     },
     "metadata": {},
     "output_type": "display_data"
    }
   ],
   "source": [
    "plt.figure(figsize=(12, 6))\n",
    "plt.plot(monthly_sales.index, monthly_sales, marker='o')\n",
    "plt.title('Monthly Sales Trend')\n",
    "plt.xlabel('Date')\n",
    "plt.ylabel('Total Amount')\n",
    "plt.grid()\n",
    "plt.show()"
   ]
  },
  {
   "cell_type": "markdown",
   "id": "c508a00e",
   "metadata": {},
   "source": [
    "#Customer and Product Analysis: Analyze customer demographics and purchasing behavior."
   ]
  },
  {
   "cell_type": "markdown",
   "id": "c841110e",
   "metadata": {},
   "source": [
    "#Analyze customer demographics"
   ]
  },
  {
   "cell_type": "code",
   "execution_count": 67,
   "id": "bcaf3ca4",
   "metadata": {},
   "outputs": [],
   "source": [
    "gender_counts = df['Gender'].value_counts()"
   ]
  },
  {
   "cell_type": "code",
   "execution_count": 68,
   "id": "20385729",
   "metadata": {},
   "outputs": [
    {
     "name": "stdout",
     "output_type": "stream",
     "text": [
      "Gender Distribution:\n",
      "Female    510\n",
      "Male      490\n",
      "Name: Gender, dtype: int64\n"
     ]
    }
   ],
   "source": [
    "print(\"Gender Distribution:\")\n",
    "print(gender_counts)"
   ]
  },
  {
   "cell_type": "code",
   "execution_count": 74,
   "id": "d6c6a351",
   "metadata": {},
   "outputs": [
    {
     "data": {
      "image/png": "[encoded data removed]",
      "text/plain": [
       "<Figure size 640x480 with 1 Axes>"
      ]
     },
     "metadata": {},
     "output_type": "display_data"
    }
   ],
   "source": [
    "gender_counts.plot(kind='bar', color=['pink', 'blue'])\n",
    "plt.title('Gender Distribution')\n",
    "plt.xlabel('Gender')\n",
    "plt.ylabel('Count')\n",
    "plt.show()"
   ]
  },
  {
   "cell_type": "code",
   "execution_count": 75,
   "id": "6c8be0bb",
   "metadata": {},
   "outputs": [
    {
     "data": {
      "image/png": "[encoded data removed]",
      "text/plain": [
       "<Figure size 1200x600 with 1 Axes>"
      ]
     },
     "metadata": {},
     "output_type": "display_data"
    }
   ],
   "source": [
    "# Plot age distribution\n",
    "plt.figure(figsize=(12, 6))\n",
    "plt.hist(df['Age'], bins=20, color='green', edgecolor='black')\n",
    "plt.title('Age Distribution of Customers')\n",
    "plt.xlabel('Age')\n",
    "plt.ylabel('Frequency')\n",
    "plt.grid()\n",
    "plt.show()"
   ]
  },
  {
   "cell_type": "markdown",
   "id": "65138c54",
   "metadata": {},
   "source": [
    "#Analyze purchasing Behaviour"
   ]
  },
  {
   "cell_type": "code",
   "execution_count": 76,
   "id": "50943d47",
   "metadata": {},
   "outputs": [],
   "source": [
    "amount_by_gender = df.groupby('Gender')['Total Amount'].sum()"
   ]
  },
  {
   "cell_type": "code",
   "execution_count": 77,
   "id": "24b4ea99",
   "metadata": {},
   "outputs": [
    {
     "name": "stdout",
     "output_type": "stream",
     "text": [
      "Total Amount Spent by Gender:\n",
      "Gender\n",
      "Female    232840\n",
      "Male      223160\n",
      "Name: Total Amount, dtype: int64\n"
     ]
    }
   ],
   "source": [
    "print(\"Total Amount Spent by Gender:\")\n",
    "print(amount_by_gender)"
   ]
  },
  {
   "cell_type": "code",
   "execution_count": 100,
   "id": "bf421e61",
   "metadata": {},
   "outputs": [
    {
     "data": {
      "image/png": "[encoded data removed]",
      "text/plain": [
       "<Figure size 640x480 with 1 Axes>"
      ]
     },
     "metadata": {},
     "output_type": "display_data"
    }
   ],
   "source": [
    "# Plot total amount spent by gender\n",
    "amount_by_gender.plot(kind='bar', color=['pink', 'blue'])\n",
    "plt.title('Total Amount Spent by Gender')\n",
    "plt.xlabel('Gender')\n",
    "plt.ylabel('Total Amount')\n",
    "plt.show()"
   ]
  },
  {
   "cell_type": "code",
   "execution_count": 80,
   "id": "44f002e9",
   "metadata": {},
   "outputs": [],
   "source": [
    "# Create age groups\n",
    "bins = [0, 18, 25, 35, 45, 55, 65, 100]\n",
    "labels = ['<18', '18-24', '25-34', '35-44', '45-54', '55-64', '65+']\n",
    "df['Age Group'] = pd.cut(df['Age'], bins=bins, labels=labels)"
   ]
  },
  {
   "cell_type": "code",
   "execution_count": 81,
   "id": "f45a2e11",
   "metadata": {},
   "outputs": [],
   "source": [
    "avg_purchase_by_age = df.groupby('Age Group')['Total Amount'].mean()"
   ]
  },
  {
   "cell_type": "code",
   "execution_count": 82,
   "id": "9da5f660",
   "metadata": {},
   "outputs": [
    {
     "name": "stdout",
     "output_type": "stream",
     "text": [
      "Average Purchase Amount by Age Group:\n",
      "Age Group\n",
      "<18      534.047619\n",
      "18-24    495.506757\n",
      "25-34    480.390244\n",
      "35-44    454.801980\n",
      "45-54    439.694323\n",
      "55-64    412.358974\n",
      "65+             NaN\n",
      "Name: Total Amount, dtype: float64\n"
     ]
    }
   ],
   "source": [
    "print(\"Average Purchase Amount by Age Group:\")\n",
    "print(avg_purchase_by_age)"
   ]
  },
  {
   "cell_type": "code",
   "execution_count": 84,
   "id": "433121ac",
   "metadata": {},
   "outputs": [
    {
     "data": {
      "image/png": "[encoded data removed]",
      "text/plain": [
       "<Figure size 640x480 with 1 Axes>"
      ]
     },
     "metadata": {},
     "output_type": "display_data"
    }
   ],
   "source": [
    "# Plot average purchase amount by age group\n",
    "avg_purchase_by_age.plot(kind='bar', color='cyan')\n",
    "plt.title('Average Purchase Amount by Age Group')\n",
    "plt.xlabel('Age Group')\n",
    "plt.ylabel('Average Purchase Amount')\n",
    "plt.show()"
   ]
  },
  {
   "cell_type": "code",
   "execution_count": 85,
   "id": "9fb77c30",
   "metadata": {},
   "outputs": [],
   "source": [
    "sales_by_category = df.groupby('Product Category')['Total Amount'].sum()"
   ]
  },
  {
   "cell_type": "code",
   "execution_count": 86,
   "id": "fe56d2bf",
   "metadata": {},
   "outputs": [
    {
     "name": "stdout",
     "output_type": "stream",
     "text": [
      "Total Sales by Product Category:\n",
      "Product Category\n",
      "Beauty         143515\n",
      "Clothing       155580\n",
      "Electronics    156905\n",
      "Name: Total Amount, dtype: int64\n"
     ]
    }
   ],
   "source": [
    "print(\"Total Sales by Product Category:\")\n",
    "print(sales_by_category)"
   ]
  },
  {
   "cell_type": "code",
   "execution_count": 88,
   "id": "5e12a288",
   "metadata": {},
   "outputs": [
    {
     "data": {
      "image/png": "[encoded data removed]",
      "text/plain": [
       "<Figure size 640x480 with 1 Axes>"
      ]
     },
     "metadata": {},
     "output_type": "display_data"
    }
   ],
   "source": [
    "# Plot total sales by product category\n",
    "sales_by_category.plot(kind='bar', color='yellow')\n",
    "plt.title('Total Sales by Product Category')\n",
    "plt.xlabel('Product Category')\n",
    "plt.ylabel('Total Sales')\n",
    "plt.show()\n"
   ]
  },
  {
   "cell_type": "markdown",
   "id": "0c3d0a69",
   "metadata": {},
   "source": [
    "#Visualization:Present insights through bar charts,line plots,and heatmaps.(bar charts and line plots are already done in above)"
   ]
  },
  {
   "cell_type": "code",
   "execution_count": 109,
   "id": "65798e2c",
   "metadata": {},
   "outputs": [],
   "source": [
    "pivot_table = df.pivot_table(values='Total Amount', index='Product Category', columns='Gender', aggfunc='sum')"
   ]
  },
  {
   "cell_type": "code",
   "execution_count": 110,
   "id": "c6488137",
   "metadata": {},
   "outputs": [
    {
     "data": {
      "text/html": [
       "<div>\n",
       "<style scoped>\n",
       "    .dataframe tbody tr th:only-of-type {\n",
       "        vertical-align: middle;\n",
       "    }\n",
       "\n",
       "    .dataframe tbody tr th {\n",
       "        vertical-align: top;\n",
       "    }\n",
       "\n",
       "    .dataframe thead th {\n",
       "        text-align: right;\n",
       "    }\n",
       "</style>\n",
       "<table border=\"1\" class=\"dataframe\">\n",
       "  <thead>\n",
       "    <tr style=\"text-align: right;\">\n",
       "      <th>Gender</th>\n",
       "      <th>Female</th>\n",
       "      <th>Male</th>\n",
       "    </tr>\n",
       "    <tr>\n",
       "      <th>Product Category</th>\n",
       "      <th></th>\n",
       "      <th></th>\n",
       "    </tr>\n",
       "  </thead>\n",
       "  <tbody>\n",
       "    <tr>\n",
       "      <th>Beauty</th>\n",
       "      <td>74830</td>\n",
       "      <td>68685</td>\n",
       "    </tr>\n",
       "    <tr>\n",
       "      <th>Clothing</th>\n",
       "      <td>81275</td>\n",
       "      <td>74305</td>\n",
       "    </tr>\n",
       "    <tr>\n",
       "      <th>Electronics</th>\n",
       "      <td>76735</td>\n",
       "      <td>80170</td>\n",
       "    </tr>\n",
       "  </tbody>\n",
       "</table>\n",
       "</div>"
      ],
      "text/plain": [
       "Gender            Female   Male\n",
       "Product Category               \n",
       "Beauty             74830  68685\n",
       "Clothing           81275  74305\n",
       "Electronics        76735  80170"
      ]
     },
     "execution_count": 110,
     "metadata": {},
     "output_type": "execute_result"
    }
   ],
   "source": [
    "pivot_table"
   ]
  },
  {
   "cell_type": "code",
   "execution_count": 111,
   "id": "46f6d65d",
   "metadata": {},
   "outputs": [
    {
     "data": {
      "image/png": "[encoded data removed]",
      "text/plain": [
       "<Figure size 1000x600 with 2 Axes>"
      ]
     },
     "metadata": {},
     "output_type": "display_data"
    }
   ],
   "source": [
    "plt.figure(figsize=(10, 6))\n",
    "sns.heatmap(pivot_table, annot=True, fmt=\".2f\", cmap='YlGnBu', cbar_kws={'label': 'Total Amount'})\n",
    "plt.title('Total Sales by Product Category and Gender')\n",
    "plt.xlabel('Gender')\n",
    "plt.ylabel('Product Category')\n",
    "plt.show()"
   ]
  },
  {
   "cell_type": "markdown",
   "id": "5e2a18c7",
   "metadata": {},
   "source": [
    "#Thank you"
   ]
  }
 ],
 "metadata": {
  "kernelspec": {
   "display_name": "Python 3 (ipykernel)",
   "language": "python",
   "name": "python3"
  },
  "language_info": {
   "codemirror_mode": {
    "name": "ipython",
    "version": 3
   },
   "file_extension": ".py",
   "mimetype": "text/x-python",
   "name": "python",
   "nbconvert_exporter": "python",
   "pygments_lexer": "ipython3",
   "version": "3.9.13"
  }
 },
 "nbformat": 4,
 "nbformat_minor": 5
}
